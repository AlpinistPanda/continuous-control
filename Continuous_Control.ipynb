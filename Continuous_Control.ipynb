{
 "cells": [
  {
   "cell_type": "markdown",
   "metadata": {},
   "source": [
    "# Continuous Control\n",
    "\n",
    "---\n",
    "\n",
    "You are welcome to use this coding environment to train your agent for the project.  Follow the instructions below to get started!\n",
    "\n",
    "### 1. Start the Environment\n",
    "\n",
    "Run the next code cell to install a few packages.  This line will take a few minutes to run!"
   ]
  },
  {
   "cell_type": "code",
   "execution_count": 1,
   "metadata": {},
   "outputs": [
    {
     "name": "stdout",
     "output_type": "stream",
     "text": [
      "\u001b[31mtensorflow 1.7.1 has requirement numpy>=1.13.3, but you'll have numpy 1.12.1 which is incompatible.\u001b[0m\r\n",
      "\u001b[31mipython 6.5.0 has requirement prompt-toolkit<2.0.0,>=1.0.15, but you'll have prompt-toolkit 3.0.5 which is incompatible.\u001b[0m\r\n"
     ]
    }
   ],
   "source": [
    "!pip -q install ./python"
   ]
  },
  {
   "cell_type": "markdown",
   "metadata": {},
   "source": [
    "The environments corresponding to both versions of the environment are already saved in the Workspace and can be accessed at the file paths provided below.  \n",
    "\n",
    "Please select one of the two options below for loading the environment."
   ]
  },
  {
   "cell_type": "code",
   "execution_count": 2,
   "metadata": {},
   "outputs": [
    {
     "name": "stderr",
     "output_type": "stream",
     "text": [
      "INFO:unityagents:\n",
      "'Academy' started successfully!\n",
      "Unity Academy name: Academy\n",
      "        Number of Brains: 1\n",
      "        Number of External Brains : 1\n",
      "        Lesson number : 0\n",
      "        Reset Parameters :\n",
      "\t\tgoal_speed -> 1.0\n",
      "\t\tgoal_size -> 5.0\n",
      "Unity brain name: ReacherBrain\n",
      "        Number of Visual Observations (per agent): 0\n",
      "        Vector Observation space type: continuous\n",
      "        Vector Observation space size (per agent): 33\n",
      "        Number of stacked Vector Observation: 1\n",
      "        Vector Action space type: continuous\n",
      "        Vector Action space size (per agent): 4\n",
      "        Vector Action descriptions: , , , \n"
     ]
    }
   ],
   "source": [
    "from unityagents import UnityEnvironment\n",
    "import numpy as np\n",
    "\n",
    "import sys\n",
    "import pickle\n",
    "import torch\n",
    "import pandas as pd\n",
    "import matplotlib.pyplot as plt\n",
    "\n",
    "\n",
    "from PPO import GaussianActorCriticNetwork\n",
    "from PPO import PPOAgent\n",
    "\n",
    "# select this option to load version 1 (with a single agent) of the environment\n",
    "# env = UnityEnvironment(file_name='/data/Reacher_One_Linux_NoVis/Reacher_One_Linux_NoVis.x86_64')\n",
    "\n",
    "# select this option to load version 2 (with 20 agents) of the environment\n",
    "env = UnityEnvironment(file_name='/data/Reacher_Linux_NoVis/Reacher.x86_64')"
   ]
  },
  {
   "cell_type": "markdown",
   "metadata": {},
   "source": [
    "Environments contain **_brains_** which are responsible for deciding the actions of their associated agents. Here we check for the first brain available, and set it as the default brain we will be controlling from Python."
   ]
  },
  {
   "cell_type": "code",
   "execution_count": 3,
   "metadata": {},
   "outputs": [],
   "source": [
    "# get the default brain\n",
    "brain_name = env.brain_names[0]\n",
    "brain = env.brains[brain_name]"
   ]
  },
  {
   "cell_type": "markdown",
   "metadata": {},
   "source": [
    "### 2. Examine the State and Action Spaces\n",
    "\n",
    "Run the code cell below to print some information about the environment."
   ]
  },
  {
   "cell_type": "code",
   "execution_count": 4,
   "metadata": {},
   "outputs": [
    {
     "name": "stdout",
     "output_type": "stream",
     "text": [
      "Number of agents: 20\n",
      "Size of each action: 4\n",
      "There are 20 agents. Each observes a state with length: 33\n",
      "The state for the first agent looks like: [  0.00000000e+00  -4.00000000e+00   0.00000000e+00   1.00000000e+00\n",
      "  -0.00000000e+00  -0.00000000e+00  -4.37113883e-08   0.00000000e+00\n",
      "   0.00000000e+00   0.00000000e+00   0.00000000e+00   0.00000000e+00\n",
      "   0.00000000e+00   0.00000000e+00  -1.00000000e+01   0.00000000e+00\n",
      "   1.00000000e+00  -0.00000000e+00  -0.00000000e+00  -4.37113883e-08\n",
      "   0.00000000e+00   0.00000000e+00   0.00000000e+00   0.00000000e+00\n",
      "   0.00000000e+00   0.00000000e+00   5.75471878e+00  -1.00000000e+00\n",
      "   5.55726624e+00   0.00000000e+00   1.00000000e+00   0.00000000e+00\n",
      "  -1.68164849e-01]\n"
     ]
    }
   ],
   "source": [
    "# reset the environment\n",
    "env_info = env.reset(train_mode=True)[brain_name]\n",
    "\n",
    "# number of agents\n",
    "num_agents = len(env_info.agents)\n",
    "print('Number of agents:', num_agents)\n",
    "\n",
    "# size of each action\n",
    "action_size = brain.vector_action_space_size\n",
    "print('Size of each action:', action_size)\n",
    "\n",
    "# examine the state space \n",
    "states = env_info.vector_observations\n",
    "state_size = states.shape[1]\n",
    "print('There are {} agents. Each observes a state with length: {}'.format(states.shape[0], state_size))\n",
    "print('The state for the first agent looks like:', states[0])"
   ]
  },
  {
   "cell_type": "markdown",
   "metadata": {},
   "source": [
    "### 3. Take Random Actions in the Environment\n",
    "\n",
    "In the next code cell, you will learn how to use the Python API to control the agent and receive feedback from the environment.\n",
    "\n",
    "Note that **in this coding environment, you will not be able to watch the agents while they are training**, and you should set `train_mode=True` to restart the environment."
   ]
  },
  {
   "cell_type": "code",
   "execution_count": 5,
   "metadata": {},
   "outputs": [
    {
     "name": "stdout",
     "output_type": "stream",
     "text": [
      "Total score (averaged over agents) this episode: 0.10199999772012233\n"
     ]
    }
   ],
   "source": [
    "env_info = env.reset(train_mode=True)[brain_name]      # reset the environment    \n",
    "states = env_info.vector_observations                  # get the current state (for each agent)\n",
    "scores = np.zeros(num_agents)                          # initialize the score (for each agent)\n",
    "while True:\n",
    "    actions = np.random.randn(num_agents, action_size) # select an action (for each agent)\n",
    "    actions = np.clip(actions, -1, 1)                  # all actions between -1 and 1\n",
    "    env_info = env.step(actions)[brain_name]           # send all actions to tne environment\n",
    "    next_states = env_info.vector_observations         # get next state (for each agent)\n",
    "    rewards = env_info.rewards                         # get reward (for each agent)\n",
    "    dones = env_info.local_done                        # see if episode finished\n",
    "    scores += env_info.rewards                         # update the score (for each agent)\n",
    "    states = next_states                               # roll over states to next time step\n",
    "    if np.any(dones):                                  # exit loop if episode finished\n",
    "        break\n",
    "print('Total score (averaged over agents) this episode: {}'.format(np.mean(scores)))"
   ]
  },
  {
   "cell_type": "code",
   "execution_count": 5,
   "metadata": {},
   "outputs": [],
   "source": [
    "def train():\n",
    "    device = torch.device('cuda:0' if torch.cuda.is_available() else 'cpu')\n",
    "\n",
    "#     if sys.platform == \"darwin\":\n",
    "#         binary_path = \"./bin/Reacher.app\"\n",
    "#     elif sys.platform == \"linux\":\n",
    "#         binary_path = \"./bin/Reacher_Linux_NoVis/Reacher.x86_64\"\n",
    "#     else:\n",
    "#         binary_path = \"./bin/Reacher_Windows_x86_64/Reacher.exe\"\n",
    "\n",
    "#     env = UnityEnvironment(file_name=binary_path)\n",
    "    n_agent, state_dim, action_dim = get_env_info(env)\n",
    "    model = GaussianActorCriticNetwork(state_dim, action_dim, hiddens=[512, 256])\n",
    "    model = model.to(device)\n",
    "    agent = PPOAgent(env, model, tmax=128, n_epoch=10,\n",
    "                     batch_size=128, eps=0.1, device=device)\n",
    "\n",
    "    n_step = 2000\n",
    "    n_episodes = 0\n",
    "    for step in range(n_step):\n",
    "        agent.step()\n",
    "        scores = agent.scores_by_episode\n",
    "        if n_episodes < len(scores):\n",
    "            n_episodes = len(scores)\n",
    "            print(f\" episode #{n_episodes} : score = {scores[-1]:.2f}\", end=\"\")\n",
    "            if 100 <= n_episodes:\n",
    "                rewards_ma = np.mean(scores[-100:])\n",
    "                print(f\", mean score of last 100 episodes = {rewards_ma:.2f}\")\n",
    "                if 30. <= rewards_ma:\n",
    "                    torch.save(model.state_dict(), \"model.pth\")\n",
    "                    with open('rewards.pickle', 'wb') as fp:\n",
    "                        pickle.dump(scores, fp)\n",
    "                    print(\"\\n ==== Achieved criteria! Model is saved.\")\n",
    "                    break\n",
    "            else:\n",
    "                print()\n",
    "        sys.stdout.flush()\n"
   ]
  },
  {
   "cell_type": "code",
   "execution_count": 7,
   "metadata": {},
   "outputs": [],
   "source": [
    "def get_env_info(env):\n",
    "    # reset the environment\n",
    "    brain_name = env.brain_names[0]\n",
    "    brain = env.brains[brain_name]\n",
    "    env_info = env.reset(train_mode=True)[brain_name]\n",
    "    n_agent = len(env_info.agents)\n",
    "    action_dim = brain.vector_action_space_size\n",
    "    states = env_info.vector_observations\n",
    "    state_dim = states.shape[1]\n",
    "\n",
    "    return n_agent, state_dim, action_dim"
   ]
  },
  {
   "cell_type": "code",
   "execution_count": 8,
   "metadata": {},
   "outputs": [
    {
     "name": "stdout",
     "output_type": "stream",
     "text": [
      " episode #1 : score = 0.48\n",
      " episode #2 : score = 0.75\n",
      " episode #3 : score = 0.93\n",
      " episode #4 : score = 0.88\n",
      " episode #5 : score = 1.11\n",
      " episode #6 : score = 1.47\n",
      " episode #7 : score = 1.48\n",
      " episode #8 : score = 2.03\n",
      " episode #9 : score = 2.55\n",
      " episode #10 : score = 2.73\n",
      " episode #11 : score = 3.19\n",
      " episode #12 : score = 3.54\n",
      " episode #13 : score = 4.96\n",
      " episode #14 : score = 3.90\n",
      " episode #15 : score = 5.45\n",
      " episode #16 : score = 5.23\n",
      " episode #17 : score = 5.93\n",
      " episode #18 : score = 5.90\n",
      " episode #19 : score = 5.97\n",
      " episode #20 : score = 6.50\n",
      " episode #21 : score = 6.34\n",
      " episode #22 : score = 6.74\n",
      " episode #23 : score = 7.58\n",
      " episode #24 : score = 8.55\n",
      " episode #25 : score = 8.82\n",
      " episode #26 : score = 9.78\n",
      " episode #27 : score = 10.68\n",
      " episode #28 : score = 10.20\n",
      " episode #29 : score = 11.52\n",
      " episode #30 : score = 10.74\n",
      " episode #31 : score = 11.08\n",
      " episode #32 : score = 11.97\n",
      " episode #33 : score = 12.20\n",
      " episode #34 : score = 13.15\n",
      " episode #35 : score = 15.61\n",
      " episode #36 : score = 14.79\n",
      " episode #37 : score = 15.49\n",
      " episode #38 : score = 15.04\n",
      " episode #39 : score = 15.85\n",
      " episode #40 : score = 17.57\n",
      " episode #41 : score = 17.69\n",
      " episode #42 : score = 19.39\n",
      " episode #43 : score = 19.94\n",
      " episode #44 : score = 22.22\n",
      " episode #45 : score = 21.72\n",
      " episode #46 : score = 22.93\n",
      " episode #47 : score = 22.59\n",
      " episode #48 : score = 26.27\n",
      " episode #49 : score = 25.33\n",
      " episode #50 : score = 29.36\n",
      " episode #51 : score = 30.17\n",
      " episode #52 : score = 31.39\n",
      " episode #53 : score = 29.91\n",
      " episode #54 : score = 30.12\n",
      " episode #55 : score = 30.09\n",
      " episode #56 : score = 32.02\n",
      " episode #57 : score = 32.39\n",
      " episode #58 : score = 31.34\n",
      " episode #59 : score = 33.25\n",
      " episode #60 : score = 33.99\n",
      " episode #61 : score = 33.49\n",
      " episode #62 : score = 35.15\n",
      " episode #63 : score = 36.20\n",
      " episode #64 : score = 34.45\n",
      " episode #65 : score = 35.22\n",
      " episode #66 : score = 35.58\n",
      " episode #67 : score = 34.73\n",
      " episode #68 : score = 35.75\n",
      " episode #69 : score = 36.02\n",
      " episode #70 : score = 34.39\n",
      " episode #71 : score = 35.06\n",
      " episode #72 : score = 36.57\n",
      " episode #73 : score = 36.94\n",
      " episode #74 : score = 37.44\n",
      " episode #75 : score = 36.76\n",
      " episode #76 : score = 36.74\n",
      " episode #77 : score = 36.63\n",
      " episode #78 : score = 36.22\n",
      " episode #79 : score = 36.84\n",
      " episode #80 : score = 36.53\n",
      " episode #81 : score = 36.59\n",
      " episode #82 : score = 36.52\n",
      " episode #83 : score = 36.73\n",
      " episode #84 : score = 36.42\n",
      " episode #85 : score = 35.92\n",
      " episode #86 : score = 36.00\n",
      " episode #87 : score = 36.88\n",
      " episode #88 : score = 35.84\n",
      " episode #89 : score = 35.85\n",
      " episode #90 : score = 37.03\n",
      " episode #91 : score = 37.78\n",
      " episode #92 : score = 37.33\n",
      " episode #93 : score = 37.25\n",
      " episode #94 : score = 36.92\n",
      " episode #95 : score = 37.23\n",
      " episode #96 : score = 37.28\n",
      " episode #97 : score = 36.65\n",
      " episode #98 : score = 36.40\n",
      " episode #99 : score = 36.77\n",
      " episode #100 : score = 37.60, mean score of last 100 episodes = 22.92\n",
      " episode #101 : score = 36.40, mean score of last 100 episodes = 23.28\n",
      " episode #102 : score = 37.70, mean score of last 100 episodes = 23.65\n",
      " episode #103 : score = 36.35, mean score of last 100 episodes = 24.01\n",
      " episode #104 : score = 36.68, mean score of last 100 episodes = 24.37\n",
      " episode #105 : score = 36.62, mean score of last 100 episodes = 24.72\n",
      " episode #106 : score = 37.29, mean score of last 100 episodes = 25.08\n",
      " episode #107 : score = 37.52, mean score of last 100 episodes = 25.44\n",
      " episode #108 : score = 37.06, mean score of last 100 episodes = 25.79\n",
      " episode #109 : score = 35.92, mean score of last 100 episodes = 26.12\n",
      " episode #110 : score = 38.04, mean score of last 100 episodes = 26.48\n",
      " episode #111 : score = 37.64, mean score of last 100 episodes = 26.82\n",
      " episode #112 : score = 36.80, mean score of last 100 episodes = 27.15\n",
      " episode #113 : score = 38.09, mean score of last 100 episodes = 27.48\n",
      " episode #114 : score = 37.61, mean score of last 100 episodes = 27.82\n",
      " episode #115 : score = 37.70, mean score of last 100 episodes = 28.14\n",
      " episode #116 : score = 37.98, mean score of last 100 episodes = 28.47\n",
      " episode #117 : score = 37.41, mean score of last 100 episodes = 28.79\n",
      " episode #118 : score = 37.89, mean score of last 100 episodes = 29.11\n",
      " episode #119 : score = 37.67, mean score of last 100 episodes = 29.42\n",
      " episode #120 : score = 37.77, mean score of last 100 episodes = 29.74\n",
      " episode #121 : score = 37.33, mean score of last 100 episodes = 30.05\n",
      "\n",
      " ==== Achieved criteria! Model is saved.\n",
      "Finished.\n"
     ]
    }
   ],
   "source": [
    "train()"
   ]
  },
  {
   "cell_type": "code",
   "execution_count": 9,
   "metadata": {},
   "outputs": [],
   "source": [
    "\n",
    "def view():\n",
    "\n",
    "    n_agent, state_dim, action_dim = get_env_info(env)\n",
    "    model = GaussianActorCriticNetwork(state_dim, action_dim, hiddens=[512, 256])\n",
    "    model = model.to(device)\n",
    "\n",
    "    # load best Model\n",
    "    state_dict = torch.load(\"model.pth\",\n",
    "                            map_location=lambda storage, loc: storage)\n",
    "    model.load_state_dict(state_dict)\n",
    "\n",
    "    # Reset Env\n",
    "    brain_name = env.brain_names[0]\n",
    "    env_info = env.reset(train_mode=False)[brain_name]\n",
    "    states = to_tensor(env_info.vector_observations)\n",
    "\n",
    "    n_step = 5000\n",
    "    model.eval()\n",
    "    for step in range(n_step):\n",
    "        # draw action from model\n",
    "        actions, _, _, _ = model(states)\n",
    "\n",
    "        # one step forward\n",
    "        actions_np = actions.cpu().numpy()\n",
    "        env_info = env.step(actions_np)[brain_name]\n",
    "        states = to_tensor(env_info.vector_observations)"
   ]
  },
  {
   "cell_type": "markdown",
   "metadata": {},
   "source": [
    "When finished, you can close the environment."
   ]
  },
  {
   "cell_type": "code",
   "execution_count": 12,
   "metadata": {},
   "outputs": [],
   "source": [
    "device = torch.device('cuda:0' if torch.cuda.is_available() else 'cpu')\n",
    "def to_tensor(x, dtype=np.float32):\n",
    "    return torch.from_numpy(np.array(x).astype(dtype)).to(device)\n"
   ]
  },
  {
   "cell_type": "code",
   "execution_count": 13,
   "metadata": {},
   "outputs": [
    {
     "ename": "KeyboardInterrupt",
     "evalue": "",
     "output_type": "error",
     "traceback": [
      "\u001b[0;31m---------------------------------------------------------------------------\u001b[0m",
      "\u001b[0;31mKeyboardInterrupt\u001b[0m                         Traceback (most recent call last)",
      "\u001b[0;32m<ipython-input-13-6ee07229fd27>\u001b[0m in \u001b[0;36m<module>\u001b[0;34m()\u001b[0m\n\u001b[0;32m----> 1\u001b[0;31m \u001b[0mview\u001b[0m\u001b[0;34m(\u001b[0m\u001b[0;34m)\u001b[0m\u001b[0;34m\u001b[0m\u001b[0m\n\u001b[0m",
      "\u001b[0;32m<ipython-input-9-8dd42beefb90>\u001b[0m in \u001b[0;36mview\u001b[0;34m()\u001b[0m\n\u001b[1;32m     24\u001b[0m         \u001b[0;31m# one step forward\u001b[0m\u001b[0;34m\u001b[0m\u001b[0;34m\u001b[0m\u001b[0m\n\u001b[1;32m     25\u001b[0m         \u001b[0mactions_np\u001b[0m \u001b[0;34m=\u001b[0m \u001b[0mactions\u001b[0m\u001b[0;34m.\u001b[0m\u001b[0mcpu\u001b[0m\u001b[0;34m(\u001b[0m\u001b[0;34m)\u001b[0m\u001b[0;34m.\u001b[0m\u001b[0mnumpy\u001b[0m\u001b[0;34m(\u001b[0m\u001b[0;34m)\u001b[0m\u001b[0;34m\u001b[0m\u001b[0m\n\u001b[0;32m---> 26\u001b[0;31m         \u001b[0menv_info\u001b[0m \u001b[0;34m=\u001b[0m \u001b[0menv\u001b[0m\u001b[0;34m.\u001b[0m\u001b[0mstep\u001b[0m\u001b[0;34m(\u001b[0m\u001b[0mactions_np\u001b[0m\u001b[0;34m)\u001b[0m\u001b[0;34m[\u001b[0m\u001b[0mbrain_name\u001b[0m\u001b[0;34m]\u001b[0m\u001b[0;34m\u001b[0m\u001b[0m\n\u001b[0m\u001b[1;32m     27\u001b[0m         \u001b[0mstates\u001b[0m \u001b[0;34m=\u001b[0m \u001b[0mto_tensor\u001b[0m\u001b[0;34m(\u001b[0m\u001b[0menv_info\u001b[0m\u001b[0;34m.\u001b[0m\u001b[0mvector_observations\u001b[0m\u001b[0;34m)\u001b[0m\u001b[0;34m\u001b[0m\u001b[0m\n",
      "\u001b[0;32m/opt/conda/lib/python3.6/site-packages/unityagents/environment.py\u001b[0m in \u001b[0;36mstep\u001b[0;34m(self, vector_action, memory, text_action)\u001b[0m\n\u001b[1;32m    367\u001b[0m \u001b[0;34m\u001b[0m\u001b[0m\n\u001b[1;32m    368\u001b[0m             outputs = self.communicator.exchange(\n\u001b[0;32m--> 369\u001b[0;31m                 \u001b[0mself\u001b[0m\u001b[0;34m.\u001b[0m\u001b[0m_generate_step_input\u001b[0m\u001b[0;34m(\u001b[0m\u001b[0mvector_action\u001b[0m\u001b[0;34m,\u001b[0m \u001b[0mmemory\u001b[0m\u001b[0;34m,\u001b[0m \u001b[0mtext_action\u001b[0m\u001b[0;34m)\u001b[0m\u001b[0;34m\u001b[0m\u001b[0m\n\u001b[0m\u001b[1;32m    370\u001b[0m             )\n\u001b[1;32m    371\u001b[0m             \u001b[0;32mif\u001b[0m \u001b[0moutputs\u001b[0m \u001b[0;32mis\u001b[0m \u001b[0;32mNone\u001b[0m\u001b[0;34m:\u001b[0m\u001b[0;34m\u001b[0m\u001b[0m\n",
      "\u001b[0;32m/opt/conda/lib/python3.6/site-packages/unityagents/rpc_communicator.py\u001b[0m in \u001b[0;36mexchange\u001b[0;34m(self, inputs)\u001b[0m\n\u001b[1;32m     76\u001b[0m         \u001b[0mmessage\u001b[0m\u001b[0;34m.\u001b[0m\u001b[0munity_input\u001b[0m\u001b[0;34m.\u001b[0m\u001b[0mCopyFrom\u001b[0m\u001b[0;34m(\u001b[0m\u001b[0minputs\u001b[0m\u001b[0;34m)\u001b[0m\u001b[0;34m\u001b[0m\u001b[0m\n\u001b[1;32m     77\u001b[0m         \u001b[0mself\u001b[0m\u001b[0;34m.\u001b[0m\u001b[0munity_to_external\u001b[0m\u001b[0;34m.\u001b[0m\u001b[0mparent_conn\u001b[0m\u001b[0;34m.\u001b[0m\u001b[0msend\u001b[0m\u001b[0;34m(\u001b[0m\u001b[0mmessage\u001b[0m\u001b[0;34m)\u001b[0m\u001b[0;34m\u001b[0m\u001b[0m\n\u001b[0;32m---> 78\u001b[0;31m         \u001b[0moutput\u001b[0m \u001b[0;34m=\u001b[0m \u001b[0mself\u001b[0m\u001b[0;34m.\u001b[0m\u001b[0munity_to_external\u001b[0m\u001b[0;34m.\u001b[0m\u001b[0mparent_conn\u001b[0m\u001b[0;34m.\u001b[0m\u001b[0mrecv\u001b[0m\u001b[0;34m(\u001b[0m\u001b[0;34m)\u001b[0m\u001b[0;34m\u001b[0m\u001b[0m\n\u001b[0m\u001b[1;32m     79\u001b[0m         \u001b[0;32mif\u001b[0m \u001b[0moutput\u001b[0m\u001b[0;34m.\u001b[0m\u001b[0mheader\u001b[0m\u001b[0;34m.\u001b[0m\u001b[0mstatus\u001b[0m \u001b[0;34m!=\u001b[0m \u001b[0;36m200\u001b[0m\u001b[0;34m:\u001b[0m\u001b[0;34m\u001b[0m\u001b[0m\n\u001b[1;32m     80\u001b[0m             \u001b[0;32mreturn\u001b[0m \u001b[0;32mNone\u001b[0m\u001b[0;34m\u001b[0m\u001b[0m\n",
      "\u001b[0;32m/opt/conda/lib/python3.6/multiprocessing/connection.py\u001b[0m in \u001b[0;36mrecv\u001b[0;34m(self)\u001b[0m\n\u001b[1;32m    248\u001b[0m         \u001b[0mself\u001b[0m\u001b[0;34m.\u001b[0m\u001b[0m_check_closed\u001b[0m\u001b[0;34m(\u001b[0m\u001b[0;34m)\u001b[0m\u001b[0;34m\u001b[0m\u001b[0m\n\u001b[1;32m    249\u001b[0m         \u001b[0mself\u001b[0m\u001b[0;34m.\u001b[0m\u001b[0m_check_readable\u001b[0m\u001b[0;34m(\u001b[0m\u001b[0;34m)\u001b[0m\u001b[0;34m\u001b[0m\u001b[0m\n\u001b[0;32m--> 250\u001b[0;31m         \u001b[0mbuf\u001b[0m \u001b[0;34m=\u001b[0m \u001b[0mself\u001b[0m\u001b[0;34m.\u001b[0m\u001b[0m_recv_bytes\u001b[0m\u001b[0;34m(\u001b[0m\u001b[0;34m)\u001b[0m\u001b[0;34m\u001b[0m\u001b[0m\n\u001b[0m\u001b[1;32m    251\u001b[0m         \u001b[0;32mreturn\u001b[0m \u001b[0m_ForkingPickler\u001b[0m\u001b[0;34m.\u001b[0m\u001b[0mloads\u001b[0m\u001b[0;34m(\u001b[0m\u001b[0mbuf\u001b[0m\u001b[0;34m.\u001b[0m\u001b[0mgetbuffer\u001b[0m\u001b[0;34m(\u001b[0m\u001b[0;34m)\u001b[0m\u001b[0;34m)\u001b[0m\u001b[0;34m\u001b[0m\u001b[0m\n\u001b[1;32m    252\u001b[0m \u001b[0;34m\u001b[0m\u001b[0m\n",
      "\u001b[0;32m/opt/conda/lib/python3.6/multiprocessing/connection.py\u001b[0m in \u001b[0;36m_recv_bytes\u001b[0;34m(self, maxsize)\u001b[0m\n\u001b[1;32m    405\u001b[0m \u001b[0;34m\u001b[0m\u001b[0m\n\u001b[1;32m    406\u001b[0m     \u001b[0;32mdef\u001b[0m \u001b[0m_recv_bytes\u001b[0m\u001b[0;34m(\u001b[0m\u001b[0mself\u001b[0m\u001b[0;34m,\u001b[0m \u001b[0mmaxsize\u001b[0m\u001b[0;34m=\u001b[0m\u001b[0;32mNone\u001b[0m\u001b[0;34m)\u001b[0m\u001b[0;34m:\u001b[0m\u001b[0;34m\u001b[0m\u001b[0m\n\u001b[0;32m--> 407\u001b[0;31m         \u001b[0mbuf\u001b[0m \u001b[0;34m=\u001b[0m \u001b[0mself\u001b[0m\u001b[0;34m.\u001b[0m\u001b[0m_recv\u001b[0m\u001b[0;34m(\u001b[0m\u001b[0;36m4\u001b[0m\u001b[0;34m)\u001b[0m\u001b[0;34m\u001b[0m\u001b[0m\n\u001b[0m\u001b[1;32m    408\u001b[0m         \u001b[0msize\u001b[0m\u001b[0;34m,\u001b[0m \u001b[0;34m=\u001b[0m \u001b[0mstruct\u001b[0m\u001b[0;34m.\u001b[0m\u001b[0munpack\u001b[0m\u001b[0;34m(\u001b[0m\u001b[0;34m\"!i\"\u001b[0m\u001b[0;34m,\u001b[0m \u001b[0mbuf\u001b[0m\u001b[0;34m.\u001b[0m\u001b[0mgetvalue\u001b[0m\u001b[0;34m(\u001b[0m\u001b[0;34m)\u001b[0m\u001b[0;34m)\u001b[0m\u001b[0;34m\u001b[0m\u001b[0m\n\u001b[1;32m    409\u001b[0m         \u001b[0;32mif\u001b[0m \u001b[0mmaxsize\u001b[0m \u001b[0;32mis\u001b[0m \u001b[0;32mnot\u001b[0m \u001b[0;32mNone\u001b[0m \u001b[0;32mand\u001b[0m \u001b[0msize\u001b[0m \u001b[0;34m>\u001b[0m \u001b[0mmaxsize\u001b[0m\u001b[0;34m:\u001b[0m\u001b[0;34m\u001b[0m\u001b[0m\n",
      "\u001b[0;32m/opt/conda/lib/python3.6/multiprocessing/connection.py\u001b[0m in \u001b[0;36m_recv\u001b[0;34m(self, size, read)\u001b[0m\n\u001b[1;32m    377\u001b[0m         \u001b[0mremaining\u001b[0m \u001b[0;34m=\u001b[0m \u001b[0msize\u001b[0m\u001b[0;34m\u001b[0m\u001b[0m\n\u001b[1;32m    378\u001b[0m         \u001b[0;32mwhile\u001b[0m \u001b[0mremaining\u001b[0m \u001b[0;34m>\u001b[0m \u001b[0;36m0\u001b[0m\u001b[0;34m:\u001b[0m\u001b[0;34m\u001b[0m\u001b[0m\n\u001b[0;32m--> 379\u001b[0;31m             \u001b[0mchunk\u001b[0m \u001b[0;34m=\u001b[0m \u001b[0mread\u001b[0m\u001b[0;34m(\u001b[0m\u001b[0mhandle\u001b[0m\u001b[0;34m,\u001b[0m \u001b[0mremaining\u001b[0m\u001b[0;34m)\u001b[0m\u001b[0;34m\u001b[0m\u001b[0m\n\u001b[0m\u001b[1;32m    380\u001b[0m             \u001b[0mn\u001b[0m \u001b[0;34m=\u001b[0m \u001b[0mlen\u001b[0m\u001b[0;34m(\u001b[0m\u001b[0mchunk\u001b[0m\u001b[0;34m)\u001b[0m\u001b[0;34m\u001b[0m\u001b[0m\n\u001b[1;32m    381\u001b[0m             \u001b[0;32mif\u001b[0m \u001b[0mn\u001b[0m \u001b[0;34m==\u001b[0m \u001b[0;36m0\u001b[0m\u001b[0;34m:\u001b[0m\u001b[0;34m\u001b[0m\u001b[0m\n",
      "\u001b[0;31mKeyboardInterrupt\u001b[0m: "
     ]
    }
   ],
   "source": [
    "view()"
   ]
  },
  {
   "cell_type": "code",
   "execution_count": 38,
   "metadata": {},
   "outputs": [],
   "source": [
    "def plot(fpath):\n",
    "    with open(fpath, \"rb\") as fp:\n",
    "        scores = pickle.load(fp)\n",
    "\n",
    "    episodes = np.arange(len(scores)) + 1\n",
    "    scores = pd.Series(scores)\n",
    "    avg_scores = scores.rolling(100).mean()\n",
    "    \n",
    "    fig, ax = plt.subplots(1, 1, figsize=[15, 10])\n",
    "    ax.plot(avg_scores, \"-\", c=\"green\", linewidth=6)\n",
    "    ax.plot(scores, \"-\", c=\"black\", alpha=0.7)\n",
    "    ax.set_xlabel(\"Episode\")\n",
    "    ax.set_ylabel(\"Score\")\n",
    "    ax.grid(which=\"major\")\n",
    "    ax.legend([\"Score of Each Episode\", \"Moving Average of last 100 Episode\"\\\n",
    "               ,\"Criteria\"])\n",
    "    fig.tight_layout()\n",
    "    fig.savefig(\"result.png\")\n",
    "    "
   ]
  },
  {
   "cell_type": "code",
   "execution_count": 39,
   "metadata": {
    "scrolled": true
   },
   "outputs": [
    {
     "data": {
      "image/png": "[encoded data removed]",
      "text/plain": [
       "<matplotlib.figure.Figure at 0x7fae6d0262b0>"
      ]
     },
     "metadata": {
      "needs_background": "light"
     },
     "output_type": "display_data"
    }
   ],
   "source": [
    "plot(\"./rewards.pickle\")"
   ]
  },
  {
   "cell_type": "code",
   "execution_count": null,
   "metadata": {},
   "outputs": [],
   "source": [
    "env.close()"
   ]
  },
  {
   "cell_type": "markdown",
   "metadata": {},
   "source": [
    "### 4. It's Your Turn!\n",
    "\n",
    "Now it's your turn to train your own agent to solve the environment!  A few **important notes**:\n",
    "- When training the environment, set `train_mode=True`, so that the line for resetting the environment looks like the following:\n",
    "```python\n",
    "env_info = env.reset(train_mode=True)[brain_name]\n",
    "```\n",
    "- To structure your work, you're welcome to work directly in this Jupyter notebook, or you might like to start over with a new file!  You can see the list of files in the workspace by clicking on **_Jupyter_** in the top left corner of the notebook.\n",
    "- In this coding environment, you will not be able to watch the agents while they are training.  However, **_after training the agents_**, you can download the saved model weights to watch the agents on your own machine! "
   ]
  }
 ],
 "metadata": {
  "kernelspec": {
   "display_name": "Python 3",
   "language": "python",
   "name": "python3"
  },
  "language_info": {
   "codemirror_mode": {
    "name": "ipython",
    "version": 3
   },
   "file_extension": ".py",
   "mimetype": "text/x-python",
   "name": "python",
   "nbconvert_exporter": "python",
   "pygments_lexer": "ipython3",
   "version": "3.6.3"
  }
 },
 "nbformat": 4,
 "nbformat_minor": 2
}
